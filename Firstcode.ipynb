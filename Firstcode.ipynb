{
  "nbformat": 4,
  "nbformat_minor": 0,
  "metadata": {
    "colab": {
      "name": "Untitled0.ipynb",
      "provenance": [],
      "private_outputs": true,
      "authorship_tag": "ABX9TyNp30BWXKbUcrTczWBrrwA2",
      "include_colab_link": true
    },
    "kernelspec": {
      "name": "python3",
      "display_name": "Python 3"
    },
    "language_info": {
      "name": "python"
    },
    "accelerator": "GPU"
  },
  "cells": [
    {
      "cell_type": "markdown",
      "metadata": {
        "id": "view-in-github",
        "colab_type": "text"
      },
      "source": [
        "<a href=\"https://colab.research.google.com/github/SmartKeys/SmartKeys/blob/main/Firstcode.ipynb\" target=\"_parent\"><img src=\"https://colab.research.google.com/assets/colab-badge.svg\" alt=\"Open In Colab\"/></a>"
      ]
    },
    {
      "cell_type": "code",
      "execution_count": null,
      "metadata": {
        "id": "9XhX2iWTEhEh"
      },
      "outputs": [],
      "source": [
        "r= int(input(\"Enter no of row: \"))\n",
        "c= int(input(\"Enter no of columns\"))\n",
        "X= []\n",
        "val= []\n",
        "for i in range(0,r) :\n",
        "  for j in range(0,c) :\n",
        "    val.insert(j,int(input(\"enter the %d * %d elements\" % (i,j))))\n",
        "  X.insert(i,val)\n",
        "  val=[]\n",
        "\n"
      ]
    },
    {
      "cell_type": "code",
      "source": [
        "  Y= []\n",
        "  for i in range(0,r) :\n",
        "      for j in range(0,c) :\n",
        "          val.insert(j,int(input(\"enter the %d * %d elements\" % (i,j))))\n",
        "      Y.insert(i,val)\n",
        "      val=[]\n"
      ],
      "metadata": {
        "id": "Q03W4owmjIoJ"
      },
      "execution_count": null,
      "outputs": []
    },
    {
      "cell_type": "code",
      "source": [
        "sum= []\n",
        "for i in range(0,r) :\n",
        "    for j in range(0,c) :\n",
        "        val.insert(j,X[i][j] + Y[i][j])\n",
        "    sum.insert(i,val)\n",
        "print(sum)\n",
        "\n"
      ],
      "metadata": {
        "id": "DRXD6n5elrLL"
      },
      "execution_count": null,
      "outputs": []
    }
  ]
}